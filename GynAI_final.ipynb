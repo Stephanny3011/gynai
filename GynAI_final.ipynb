# GynAI 🌍 - Inclusive Health AI Demo with Language Support
!pip install cohere ipywidgets

import cohere
import ipywidgets as widgets
from IPython.display import display, Markdown, clear_output

# 🔐 Your Cohere API Key
COHERE_API_KEY = "GjSEtmRUVjgqP8TYmymbspx1k64YlW5phbhWnWc3"
co = cohere.Client(COHERE_API_KEY)

# 🌐 Language selector
language_selector = widgets.Dropdown(
    options=["English", "Spanish", "French", "Chinese"],
    description="🌐 Language:"
)

# Label dictionary (UI translations)
labels = {
    "English": {
        "title": "🧠 GynAI - Inclusive Health Demo",
        "name": "Name:",
        "gender": "Gender:",
        "orientation": "Orientation:",
        "symptoms": "Symptoms:",
        "placeholder_symptoms": "Describe your symptoms here...",
        "button": "Analyze",
        "result": "GynAI Response",
        "gender_options": ["Cis woman", "Trans woman", "Non-binary", "Other"]
    },
    "Spanish": {
        "title": "🧠 GynAI - Demo de Salud Inclusiva",
        "name": "Nombre:",
        "gender": "Género:",
        "orientation": "Orientación:",
        "symptoms": "Síntomas:",
        "placeholder_symptoms": "Describe tus síntomas aquí...",
        "button": "Analizar",
        "result": "Respuesta de GynAI",
        "gender_options": ["Mujer cis", "Mujer trans", "No binaria", "Otro"]
    },
    "French": {
        "title": "🧠 GynAI - Démo de Santé Inclusive",
        "name": "Nom:",
        "gender": "Genre:",
        "orientation": "Orientation:",
        "symptoms": "Symptômes:",
        "placeholder_symptoms": "Décrivez vos symptômes ici...",
        "button": "Analyser",
        "result": "Réponse de GynAI",
        "gender_options": ["Femme cis", "Femme trans", "Non-binaire", "Autre"]
    },
    "Chinese": {
        "title": "🧠 GynAI - 包容性健康演示",
        "name": "姓名:",
        "gender": "性别身份:",
        "orientation": "性取向:",
        "symptoms": "症状:",
        "placeholder_symptoms": "请在此描述您的症状...",
        "button": "分析",
        "result": "GynAI 回应",
        "gender_options": ["顺性别女性", "跨性别女性", "非二元", "其他"]
    }
}

# Widgets (dynamic later)
name_input = widgets.Text()
gender_input = widgets.Dropdown()
orientation_input = widgets.Text()
symptom_input = widgets.Textarea()
analyze_button = widgets.Button()
output_area = widgets.Output()

# UI Builder based on selected language
def build_ui(lang):
    config = labels[lang]

    name_input.description = config["name"]
    gender_input.options = config["gender_options"]
    gender_input.description = config["gender"]
    orientation_input.description = config["orientation"]
    symptom_input.description = config["symptoms"]
    symptom_input.placeholder = config["placeholder_symptoms"]
    analyze_button.description = config["button"]

    output_area.clear_output()
    display(Markdown(f"## {config['title']}"))
    display(name_input, gender_input, orientation_input, symptom_input, analyze_button, output_area)

# Prompt generation
def generate_prompt(name, gender, orientation, symptoms, lang):
    intro = {
        "English": f"Name: {name}\nGender identity: {gender}\nSexual orientation: {orientation}\nSymptoms: {symptoms}",
        "Spanish": f"Nombre: {name}\nIdentidad de género: {gender}\nOrientación sexual: {orientation}\nSíntomas: {symptoms}",
        "French": f"Nom: {name}\nIdentité de genre: {gender}\nOrientation sexuelle: {orientation}\nSymptômes: {symptoms}",
        "Chinese": f"姓名: {name}\n性别身份: {gender}\n性取向: {orientation}\n症状: {symptoms}"
    }

    task = {
        "English": "Analyze the symptoms considering the user's gender identity. Check for hormone-related or cardiovascular issues. Provide a non-diagnostic, inclusive recommendation.",
        "Spanish": "Analiza los síntomas considerando la identidad de género. Evalúa posibles problemas hormonales o cardiovasculares. Da una recomendación inclusiva sin diagnosticar.",
        "French": "Analyse les symptômes en tenant compte de l'identité de genre. Évalue les risques hormonaux ou cardiovasculaires. Donne une recommandation inclusive sans poser de diagnostic.",
        "Chinese": "根据性别身份分析症状。评估是否可能是激素或心血管问题。提供非诊断性的包容性建议。"
    }

    return f"{intro[lang]}\n\n{task[lang]}"

# Button action
def on_analyze_clicked(b):
    with output_area:
        clear_output()
        lang = language_selector.value
        prompt = generate_prompt(name_input.value, gender_input.value, orientation_input.value, symptom_input.value, lang)

        response = co.generate(
            model="command",
            prompt=prompt,
            max_tokens=250,
            temperature=0.7
        )

        title = labels[lang]["result"]
        display(Markdown(f"### 🧪 {title}:\n\n{response.generations[0].text.strip()}"))

# Link button
analyze_button.on_click(on_analyze_clicked)

# Show language selector first
def on_language_selected(change):
    clear_output()
    build_ui(change.new)

language_selector.observe(on_language_selected, names='value')

# Display
display(Markdown("## 🌐 Select your language"))
display(language_selector)
